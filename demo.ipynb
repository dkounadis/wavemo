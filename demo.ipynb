{
 "cells": [
  {
   "cell_type": "code",
   "execution_count": 7,
   "id": "c431308b",
   "metadata": {},
   "outputs": [
    {
     "name": "stdout",
     "output_type": "stream",
     "text": [
      "Predicted emotion for fear_sadness.wav is anger\n"
     ]
    }
   ],
   "source": [
    "# Predict emotion for custom wav_file\n",
    "import torch\n",
    "import soundfile as sf\n",
    "from engine import EmoNet\n",
    "from config import cfg\n",
    "model = EmoNet().to(cfg.dev)  # build DNN\n",
    "model.load_state_dict(torch.load(cfg.pth))  # load pretrained model\n",
    "model.eval();\n",
    "\n",
    "# load your own voice recording (must be 16kHZ .wav because t)\n",
    "wav_file = 'fear_sadness.wav'\n",
    "x, _ = sf.read(wav_file)\n",
    "x = torch.as_tensor(x[None, None, :], device=cfg.dev, dtype=torch.float)\n",
    "\n",
    "# predict emotion\n",
    "logits = model(x)\n",
    "emotion = cfg.id2name[int(logits.argmax())]\n",
    "print(f'Predicted emotion for {wav_file} is {emotion}')"
   ]
  },
  {
   "cell_type": "code",
   "execution_count": null,
   "id": "e013091f",
   "metadata": {},
   "outputs": [],
   "source": []
  }
 ],
 "metadata": {
  "kernelspec": {
   "display_name": "Python 3 (ipykernel)",
   "language": "python",
   "name": "python3"
  },
  "language_info": {
   "codemirror_mode": {
    "name": "ipython",
    "version": 3
   },
   "file_extension": ".py",
   "mimetype": "text/x-python",
   "name": "python",
   "nbconvert_exporter": "python",
   "pygments_lexer": "ipython3",
   "version": "3.8.10"
  }
 },
 "nbformat": 4,
 "nbformat_minor": 5
}
