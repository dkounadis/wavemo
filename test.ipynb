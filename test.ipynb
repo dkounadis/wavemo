{
 "cells": [
  {
   "cell_type": "code",
   "execution_count": 10,
   "id": "c431308b",
   "metadata": {},
   "outputs": [
    {
     "name": "stdout",
     "output_type": "stream",
     "text": [
      "ds_val length=56\n",
      "ds_test length=71\n"
     ]
    }
   ],
   "source": [
    "# Compute Speech Emotion Recognition (SER) accuracy for ds_val & ds_test\n",
    "\n",
    "# Predict emotion for custom wav_file\n",
    "\n",
    "import torch\n",
    "import soundfile as sf\n",
    "from engine import EmoNet, EmoDS, build_emodb, benchmark\n",
    "from config import cfg\n",
    "\n",
    "db = build_emodb(cfg.data_dir)  # list of pairs [wav_file, emotion_id]\n",
    "ds_val = EmoDS(db=db, data_dir=cfg.data_dir, split='val')  # cfg.speaker_assign\n",
    "ds_test = EmoDS(db=db, data_dir=cfg.data_dir, split='test') \n",
    "model = EmoNet().to(cfg.dev)  # build DNN\n",
    "model.load_state_dict(torch.load(cfg.best_pth))  # load pretrained model\n",
    "model.eval();"
   ]
  },
  {
   "cell_type": "code",
   "execution_count": 11,
   "id": "6578eb19",
   "metadata": {},
   "outputs": [
    {
     "name": "stdout",
     "output_type": "stream",
     "text": [
      "SER Accuracy on test set = 0.5070422535211268\n",
      "SER Accuracy on val set = 0.7678571428571429\n"
     ]
    }
   ],
   "source": [
    "# calculate accuracy on test set\n",
    "stats = benchmark(model, ds=ds_test, dev=cfg.dev)\n",
    "print(f'SER Accuracy on test set =', stats['accuracy'])\n",
    "stats = benchmark(model, ds=ds_val, dev=cfg.dev)\n",
    "print(f'SER Accuracy on val set =', stats['accuracy'])"
   ]
  },
  {
   "cell_type": "code",
   "execution_count": 12,
   "id": "6944265a",
   "metadata": {},
   "outputs": [
    {
     "name": "stdout",
     "output_type": "stream",
     "text": [
      "Predicted emotion for fear_sadness.wav is anger\n"
     ]
    }
   ],
   "source": [
    "# predict emotion of your own voice\n",
    "wav_file = 'fear_sadness.wav'  # 16,000 Hz\n",
    "x, _ = sf.read(wav_file)\n",
    "x = torch.as_tensor(x[None, None, :], device=cfg.dev, dtype=torch.float)\n",
    "logits = model(x)\n",
    "emotion = cfg.id2name[int(logits.argmax())]\n",
    "print(f'Predicted emotion for {wav_file} is {emotion}')"
   ]
  },
  {
   "cell_type": "code",
   "execution_count": null,
   "id": "e013091f",
   "metadata": {},
   "outputs": [],
   "source": []
  }
 ],
 "metadata": {
  "kernelspec": {
   "display_name": "Python 3 (ipykernel)",
   "language": "python",
   "name": "python3"
  },
  "language_info": {
   "codemirror_mode": {
    "name": "ipython",
    "version": 3
   },
   "file_extension": ".py",
   "mimetype": "text/x-python",
   "name": "python",
   "nbconvert_exporter": "python",
   "pygments_lexer": "ipython3",
   "version": "3.8.10"
  }
 },
 "nbformat": 4,
 "nbformat_minor": 5
}
